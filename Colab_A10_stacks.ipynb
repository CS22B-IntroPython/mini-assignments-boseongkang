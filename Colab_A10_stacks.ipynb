{
  "cells": [
    {
      "cell_type": "markdown",
      "source": [
        "##**Stack Questions**"
      ],
      "metadata": {
        "id": "cP32wAV3Yi-4"
      }
    },
    {
      "cell_type": "markdown",
      "source": [
        "## Question 1: Write a function to sort a stack."
      ],
      "metadata": {
        "id": "KqdNjm1oY_ss"
      }
    },
    {
      "cell_type": "code",
      "source": [
        "def sort_stack(stack):\n",
        "  # Your code here\n",
        "  tmp_stack = []\n",
        "\n",
        "  while stack:\n",
        "    tmp = stack.pop()\n",
        "\n",
        "    while tmp_stack and tmp_stack[-1] < tmp:\n",
        "    # while tmp_stack and tmp_stack[-1] > tmp:\n",
        "      stack.append(tmp_stack.pop())\n",
        "\n",
        "    tmp_stack.append(tmp)\n",
        "\n",
        "  while tmp_stack:\n",
        "    stack.append(tmp_stack.pop())\n",
        "\n",
        "  return stack\n",
        "\n",
        "\n",
        "stack = [34, 3, 31, 98, 92, 23]\n",
        "print(sort_stack(stack))"
      ],
      "metadata": {
        "id": "mb9K46p3Ym0N",
        "colab": {
          "base_uri": "https://localhost:8080/"
        },
        "outputId": "c48dee9c-a0db-4b71-e4da-a089f2ed34b3"
      },
      "execution_count": null,
      "outputs": [
        {
          "output_type": "stream",
          "name": "stdout",
          "text": [
            "[3, 23, 31, 34, 92, 98]\n"
          ]
        }
      ]
    },
    {
      "cell_type": "markdown",
      "metadata": {
        "id": "jFxb6ss_Whwl"
      },
      "source": [
        "## Question 2: Depict the following image as a list.\n",
        "\n",
        "<img src=\"https://miro.medium.com/max/1050/1*XifPIMxbamGKhz5UAEdz2w.png\">\n",
        "\n",
        "#### Queue\n",
        "1. Add the number 9 to the list.\n",
        "2. Remove the first number (7) from the list.\n",
        "\n",
        "#### Stack\n",
        "3. Add the number 4 to the same list.\n",
        "4. Remove the last number added (4) from the list."
      ]
    },
    {
      "cell_type": "code",
      "execution_count": null,
      "metadata": {
        "id": "XOm7YLTEWhwm",
        "colab": {
          "base_uri": "https://localhost:8080/"
        },
        "outputId": "b89f189e-f300-45ee-b2ff-d30a0d0dfb7d"
      },
      "outputs": [
        {
          "output_type": "stream",
          "name": "stdout",
          "text": [
            "[3, 1, 6, 8, 9]\n"
          ]
        }
      ],
      "source": [
        "queue = [7, 3, 1, 6, 8]\n",
        "queue.append(9)\n",
        "queue.pop(0)\n",
        "print(queue)"
      ]
    },
    {
      "cell_type": "code",
      "source": [
        "stack = [7, 3, 1, 6, 8]\n",
        "stack.append(4)\n",
        "stack.pop(-1)\n",
        "print(stack)"
      ],
      "metadata": {
        "colab": {
          "base_uri": "https://localhost:8080/"
        },
        "id": "VZ3_vsYuxDQZ",
        "outputId": "d345e2cd-bb66-42e3-8f38-53cebe9c88a9"
      },
      "execution_count": null,
      "outputs": [
        {
          "output_type": "stream",
          "name": "stdout",
          "text": [
            "[7, 3, 1, 6, 8]\n"
          ]
        }
      ]
    },
    {
      "cell_type": "markdown",
      "metadata": {
        "id": "tQ3kgHVtWhwn"
      },
      "source": [
        "#### Question 3: Nodes\n",
        "\n",
        "<img src=\"https://encrypted-tbn0.gstatic.com/images?q=tbn:ANd9GcQW8-twGk0hCILE-muHBnG93hZJh2Qvgs7pVA&s\">\n",
        "\n",
        "1. Use a data structure of your choice to denote the different nodes.\n",
        "\n",
        "2. Create a function that sums all of the \"children\". Test with the node 10 (Expected answer is 37).\n"
      ]
    },
    {
      "cell_type": "code",
      "execution_count": null,
      "metadata": {
        "id": "UU0rjzjXWhwn",
        "colab": {
          "base_uri": "https://localhost:8080/"
        },
        "outputId": "d8a0c1bf-fc50-43c5-d38b-ecccc442aa43"
      },
      "outputs": [
        {
          "output_type": "stream",
          "name": "stdout",
          "text": [
            "27\n"
          ]
        }
      ],
      "source": [
        "#Your Answer:\n",
        "class Node:\n",
        "  def __init__(self, val):\n",
        "    self.val = val\n",
        "    self.children = []\n",
        "\n",
        "  def sum_child(self, child_node):\n",
        "    self.children.append(child_node)\n",
        "\n",
        "root = Node(8)\n",
        "node3 = Node(3)\n",
        "node10 = Node(10)\n",
        "node1 = Node(1)\n",
        "node6 = Node(6)\n",
        "node14 = Node(14)\n",
        "node4 = Node(4)\n",
        "node7 = Node(7)\n",
        "node13 = Node(13)\n",
        "\n",
        "root.children = [node3, node10]\n",
        "node3.children = [node1, node6]\n",
        "node10.children = [node14, node13]\n",
        "node6.children = [node4, node7]\n",
        "\n",
        "\n",
        "def sum_children(node):\n",
        "  result = 0\n",
        "\n",
        "  for child in node.children:\n",
        "    result = result + child.val\n",
        "\n",
        "  return result\n",
        "\n",
        "print(sum_children(node10))"
      ]
    },
    {
      "cell_type": "code",
      "source": [],
      "metadata": {
        "id": "WnP3WgTGy-Jh"
      },
      "execution_count": null,
      "outputs": []
    }
  ],
  "metadata": {
    "hide_input": false,
    "kernelspec": {
      "display_name": "Python 3",
      "name": "python3"
    },
    "language_info": {
      "codemirror_mode": {
        "name": "ipython",
        "version": 3
      },
      "file_extension": ".py",
      "mimetype": "text/x-python",
      "name": "python",
      "nbconvert_exporter": "python",
      "pygments_lexer": "ipython3",
      "version": "3.8.3"
    },
    "toc": {
      "base_numbering": 1,
      "nav_menu": {},
      "number_sections": true,
      "sideBar": true,
      "skip_h1_title": false,
      "title_cell": "Table of Contents",
      "title_sidebar": "Contents",
      "toc_cell": false,
      "toc_position": {},
      "toc_section_display": true,
      "toc_window_display": false
    },
    "colab": {
      "provenance": [],
      "gpuType": "T4"
    },
    "accelerator": "GPU"
  },
  "nbformat": 4,
  "nbformat_minor": 0
}