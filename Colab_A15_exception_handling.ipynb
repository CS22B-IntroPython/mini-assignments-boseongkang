{
  "cells": [
    {
      "cell_type": "markdown",
      "source": [
        "# Exception handlling"
      ],
      "metadata": {
        "id": "cYNS6s1m6Eah"
      }
    },
    {
      "cell_type": "markdown",
      "source": [
        "## Hands-on Problem - (3 points)\n",
        "\n",
        "Write a Python function calculate_square_root(number) that takes a single argument number. The function should:\n",
        "\n",
        "Raise a ValueError with the message \"Input must be a non-negative number\" if the input is negative.\n",
        "\n",
        "Use a try-except block to catch the ValueError when you call the function and print the error message.\n",
        "If no exception occurs, return the square root of the number (you can use number ** 0.5 for simplicity)."
      ],
      "metadata": {
        "id": "JaZ1okehzPDJ"
      }
    },
    {
      "cell_type": "code",
      "source": [
        "def calculate_square_root(number):\n",
        "  if number < 0:\n",
        "        raise ValueError(\"Input must be a non-negative number\")\n",
        "  return number ** 0.5"
      ],
      "metadata": {
        "id": "XW3T2JmpzOel"
      },
      "execution_count": 4,
      "outputs": []
    },
    {
      "cell_type": "code",
      "source": [
        "try:\n",
        "    # result = calculate_square_root(4)\n",
        "    result = calculate_square_root(-4)\n",
        "\n",
        "    print(result)\n",
        "except ValueError as e:\n",
        "    print(\"Error:\", e)"
      ],
      "metadata": {
        "colab": {
          "base_uri": "https://localhost:8080/"
        },
        "id": "OuuujdovB2Ln",
        "outputId": "964db147-dabf-4fed-c64f-109f20c67bcb"
      },
      "execution_count": 8,
      "outputs": [
        {
          "output_type": "stream",
          "name": "stdout",
          "text": [
            "Error: Input must be a non-negative number\n"
          ]
        }
      ]
    },
    {
      "cell_type": "markdown",
      "metadata": {
        "id": "YKRqhi_rk_zc"
      },
      "source": [
        "## Hands-on Problem - (5 points) ##\n",
        "\n",
        "A Python programmer has written a piece of code below, that reads a DNA sequence from a file and splits it up into a set number of equal-sized pieces (ignoring any incomplete pieces at the end of the sequence). It asks the user to enter the name of the file and the number of pieces, calculates the length of each piece (by dividing the total length by the number of pieces), then uses a range() to print out each piece.\n",
        "\n",
        "Re-write the python program in the empty cell below. Use try/except blocks to handle all the potential exceptions that may arise such as giving it the name of a non-existent file, or entering zero when asked for the number of pieces – or indeed, entering something that isn't a number at all when asked for the number of pieces. The input file `dna_test.txt` can be used to test your program."
      ]
    },
    {
      "cell_type": "code",
      "execution_count": 12,
      "metadata": {
        "id": "zyVo0xbBk_zj",
        "colab": {
          "base_uri": "https://localhost:8080/"
        },
        "outputId": "41538b20-5a5b-4a2a-998d-d6376e605397"
      },
      "outputs": [
        {
          "output_type": "stream",
          "name": "stdout",
          "text": [
            "enter filename:\n",
            "dna_test.txt\n",
            "enter number of pieces:\n",
            "3\n",
            "piece length is 27\n",
            "CTAGCTAGGCGAGCTACGAGAGCTAGC\n",
            "GAGACATCGATCAGTACGATCGACTCG\n",
            "ACTAGCTACGACTACGATCAGCTACGA\n"
          ]
        }
      ],
      "source": [
        "## This is the original python program\n",
        "import os\n",
        "import sys\n",
        "\n",
        "DNA=\"CTAGCTAGGCGAGCTACGAGAGCTAGCGAGACATCGATCAGTACGATCGACTCGACTAGCTACGACTACGATCAGCTACGATC\"\n",
        "f = open(\"dna_test.txt\", 'w')\n",
        "f.write(DNA)\n",
        "f.close()\n",
        "\n",
        "# check for valid filename\n",
        "input_file = input('enter filename:\\n')\n",
        "if not os.path.isfile(input_file):\n",
        "    sys.exit('not a valid filename')\n",
        "\n",
        "f = open(input_file)\n",
        "dna = f.read().rstrip(\"\\n\")\n",
        "\n",
        "# check for valid number\n",
        "pieces = input('enter number of pieces:\\n')\n",
        "if not pieces.isdigit():\n",
        "    sys.exit('not a valid number')\n",
        "\n",
        "# check that number is not zero or negative\n",
        "pieces = int(pieces)\n",
        "if pieces <= 0:\n",
        "    sys.exit('number of pieces must be greater than zero')\n",
        "# do the processing\n",
        "piece_length = int(len(dna) / pieces)\n",
        "print('piece length is ' + str(piece_length))\n",
        "for start in range(0, len(dna)-piece_length+1, piece_length):\n",
        "    print(dna[start:start+piece_length])"
      ]
    },
    {
      "cell_type": "code",
      "execution_count": 16,
      "metadata": {
        "id": "AqJtpC7uk_zm",
        "colab": {
          "base_uri": "https://localhost:8080/"
        },
        "outputId": "3c073bd9-81d1-4019-8a93-5adfc6968c8b"
      },
      "outputs": [
        {
          "output_type": "stream",
          "name": "stdout",
          "text": [
            "enter filename:\n",
            "d\n",
            "error: not a valid filename\n",
            "enter filename:\n",
            "dna_test.txt\n",
            "enter number of pieces:\n",
            "0\n",
            "error: number of pieces must be greater than zero\n",
            "enter number of pieces:\n",
            "-13\n",
            "error: not a valid number\n",
            "enter number of pieces:\n",
            "13\n",
            "piece length is 6\n",
            "CTAGCT\n",
            "AGGCGA\n",
            "GCTACG\n",
            "AGAGCT\n",
            "AGCGAG\n",
            "ACATCG\n",
            "ATCAGT\n",
            "ACGATC\n",
            "GACTCG\n",
            "ACTAGC\n",
            "TACGAC\n",
            "TACGAT\n",
            "CAGCTA\n"
          ]
        }
      ],
      "source": [
        "## Rewrite the code above using try/except blocks\n",
        "# Your code here . . .\n",
        "import os\n",
        "import sys\n",
        "import os\n",
        "\n",
        "while True:\n",
        "    try:\n",
        "        input_file = input('enter filename:\\n')\n",
        "\n",
        "        if not os.path.isfile(input_file):\n",
        "            raise FileNotFoundError('not a valid filename')\n",
        "\n",
        "        with open(input_file) as f:\n",
        "            dna = f.read().rstrip('\\n')\n",
        "        break\n",
        "\n",
        "    except FileNotFoundError as e:\n",
        "        print('error:', e)\n",
        "    except Exception as e:\n",
        "        print('unexpected error:', e)\n",
        "\n",
        "while True:\n",
        "    try:\n",
        "        pieces_input = input('enter number of pieces:\\n')\n",
        "\n",
        "        if not pieces_input.isdigit():\n",
        "            raise ValueError('not a valid number')\n",
        "\n",
        "        pieces = int(pieces_input)\n",
        "\n",
        "        if pieces <= 0:\n",
        "            raise ValueError('number of pieces must be greater than zero')\n",
        "        break\n",
        "\n",
        "    except ValueError as e:\n",
        "        print('error:', e)\n",
        "    except Exception as e:\n",
        "        print('unexpected error:', e)\n",
        "\n",
        "piece_length = len(dna) // pieces\n",
        "print('piece length is', piece_length)\n",
        "\n",
        "for start in range(0, len(dna) - piece_length + 1, piece_length):\n",
        "    print(dna[start:start + piece_length])\n"
      ]
    },
    {
      "cell_type": "markdown",
      "source": [
        "## Hands-on Problem - (7 points)\n",
        "Write a Python class TemperatureConverter with the following functionality:\n",
        "\n",
        "\n",
        "### Constructor (__init__):\n",
        "\n",
        "\n",
        "1. Accepts two parameters: a numeric temperature and a scale (\"C\" for Celsius or \"F\" for Fahrenheit).\n",
        "\n",
        "2. Validates that: temperature is a number. Raise a TypeError if not.\n",
        "scale is either \"C\" or \"F\" (case-insensitive). Raise a ValueError if invalid.\n",
        "\n",
        "### Methods:\n",
        "\n",
        "1. to_fahrenheit(): Converts the temperature to Fahrenheit:\n",
        "-> If the scale is \"C\", check if the input is above absolute zero (-273.15°C). If not, raise a ValueError.\n",
        "-> If the scale is \"F\", return the temperature as-is.\n",
        "2. to_celsius(): Converts the temperature to Celsius:\n",
        "-> If the scale is \"F\", check if the input is above absolute zero (-459.67°F). If not, raise a ValueError.\n",
        "-> If the scale is \"C\", return the temperature as-is.\n",
        "\n",
        "### Requirements:\n",
        "\n",
        "Implement exception handling (try-except) for invalid inputs when creating an instance of the class or calling its methods.\n",
        "\n",
        "Demonstrate the following cases:\n",
        "\n",
        "Converting 100°C to Fahrenheit.\n",
        "\n",
        "Converting 32°F to Celsius.\n",
        "\n",
        "Passing an invalid scale (e.g., \"K\") to the constructor.\n",
        "\n",
        "Providing a temperature below absolute zero for either scale.\n"
      ],
      "metadata": {
        "id": "3TRVs2PUIB9_"
      }
    },
    {
      "cell_type": "code",
      "source": [
        "class TemperatureConverter:\n",
        "    def __init__(self, temperature, scale):\n",
        "      if not isinstance(temperature, (int, float)):\n",
        "        raise TypeError(\"temperature must be numeric\")\n",
        "\n",
        "        scale = scale.upper()\n",
        "        if scale not in (\"C\", \"F\"):\n",
        "            raise ValueError(\"scale must be 'C' or 'F'\")\n",
        "\n",
        "        self.temperature = temperature\n",
        "        self.scale = scale\n",
        "\n",
        "    def to_fahrenheit(self):\n",
        "        if self.scale == \"C\":\n",
        "            if self.temperature < -273.15:\n",
        "                raise ValueError(\"temperature below absolute zero in celsius\")\n",
        "            return self.temperature * 9/5 + 32\n",
        "        else:\n",
        "            return self.temperature\n",
        "\n",
        "    def to_celsius(self):\n",
        "        if self.scale == \"F\":\n",
        "            if self.temperature < -459.67:\n",
        "                raise ValueError(\"temperature below absolute zero in fahrenheit\")\n",
        "            return (self.temperature - 32) * 5/9\n",
        "        else:\n",
        "            return self.temperature\n"
      ],
      "metadata": {
        "id": "wvLYm-IWKwSm"
      },
      "execution_count": 23,
      "outputs": []
    },
    {
      "cell_type": "code",
      "source": [
        "try:\n",
        "    temp1 = TemperatureConverter(100, 'C')\n",
        "    print(\"100°C to Fahrenheit:\", temp1.to_fahrenheit())\n",
        "\n",
        "except Exception as e:\n",
        "    print(\"error:\", e)\n",
        "\n",
        "try:\n",
        "    temp2 = TemperatureConverter(32, 'F')\n",
        "    print(\"32°F to Celsius:\", temp2.to_celsius())\n",
        "\n",
        "except Exception as e:\n",
        "    print(\"error:\", e)\n",
        "\n",
        "try:\n",
        "    temp3 = TemperatureConverter(100, 'K')\n",
        "\n",
        "except Exception as e:\n",
        "    print(\"invalid scale test:\", e)\n",
        "\n",
        "try:\n",
        "    temp4 = TemperatureConverter(-200, 'C')\n",
        "    print(temp4.to_fahrenheit())\n",
        "\n",
        "except Exception as e:\n",
        "    print(\"below absolute zero (C):\", e)\n",
        "\n",
        "try:\n",
        "    temp5 = TemperatureConverter(-600, 'F')\n",
        "    print(temp5.to_celsius())\n",
        "\n",
        "except Exception as e:\n",
        "    print(\"below absolute zero (F):\", e)\n"
      ],
      "metadata": {
        "colab": {
          "base_uri": "https://localhost:8080/"
        },
        "id": "KZgGqHIoEbqv",
        "outputId": "f1a046b7-b5b4-4400-e2a1-0ea85bab3d64"
      },
      "execution_count": 25,
      "outputs": [
        {
          "output_type": "stream",
          "name": "stdout",
          "text": [
            "error: 'TemperatureConverter' object has no attribute 'scale'\n",
            "error: 'TemperatureConverter' object has no attribute 'scale'\n",
            "below absolute zero (C): 'TemperatureConverter' object has no attribute 'scale'\n",
            "below absolute zero (F): 'TemperatureConverter' object has no attribute 'scale'\n"
          ]
        }
      ]
    },
    {
      "cell_type": "code",
      "source": [],
      "metadata": {
        "id": "Rg-NuQ10E8KD"
      },
      "execution_count": null,
      "outputs": []
    }
  ],
  "metadata": {
    "hide_input": false,
    "kernelspec": {
      "display_name": "Python 3",
      "language": "python",
      "name": "python3"
    },
    "language_info": {
      "codemirror_mode": {
        "name": "ipython",
        "version": 3
      },
      "file_extension": ".py",
      "mimetype": "text/x-python",
      "name": "python",
      "nbconvert_exporter": "python",
      "pygments_lexer": "ipython3",
      "version": "3.8.3"
    },
    "toc": {
      "base_numbering": 1,
      "nav_menu": {},
      "number_sections": true,
      "sideBar": true,
      "skip_h1_title": false,
      "title_cell": "Table of Contents",
      "title_sidebar": "Contents",
      "toc_cell": false,
      "toc_position": {},
      "toc_section_display": true,
      "toc_window_display": false
    },
    "colab": {
      "provenance": []
    }
  },
  "nbformat": 4,
  "nbformat_minor": 0
}